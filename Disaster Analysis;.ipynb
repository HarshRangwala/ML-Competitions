{
 "cells": [
  {
   "cell_type": "code",
   "execution_count": 105,
   "metadata": {},
   "outputs": [
    {
     "name": "stdout",
     "output_type": "stream",
     "text": [
      "3.7.6\n"
     ]
    }
   ],
   "source": [
    "import os\n",
    "import pandas as pd\n",
    "import numpy as np\n",
    "import seaborn as sns\n",
    "import matplotlib.pyplot as plt\n",
    "\n",
    "\n",
    "import warnings\n",
    "warnings.filterwarnings(\"ignore\")\n",
    "import re\n",
    "import re\n",
    "import string\n",
    "import nltk\n",
    "from nltk.corpus import stopwords\n",
    "from sklearn import model_selection\n",
    "from sklearn.feature_extraction.text import CountVectorizer,TfidfVectorizer\n",
    "from sklearn.model_selection import train_test_split,GridSearchCV\n",
    "from sklearn.naive_bayes import MultinomialNB\n",
    "from sklearn.metrics import f1_score\n",
    "from sklearn.metrics import classification_report, confusion_matrix, accuracy_score\n",
    "from sklearn.pipeline import Pipeline\n",
    "from sklearn.feature_extraction.text import TfidfTransformer\n",
    "from sklearn.linear_model import LogisticRegression\n",
    "from sklearn.svm import SVC\n",
    "from sklearn.neighbors import KNeighborsClassifier\n",
    "from sklearn.tree import DecisionTreeClassifier\n",
    "from sklearn.ensemble import RandomForestClassifier\n",
    "from sklearn.multioutput import MultiOutputClassifier\n",
    "from sklearn.model_selection import RepeatedStratifiedKFold\n",
    "import nltk\n",
    "from nltk.tokenize import word_tokenize,RegexpTokenizer\n",
    "from nltk.stem import WordNetLemmatizer\n",
    "from platform import python_version\n",
    "print (python_version())"
   ]
  },
  {
   "cell_type": "code",
   "execution_count": 2,
   "metadata": {},
   "outputs": [],
   "source": [
    "os.chdir('D:\\Datasets\\Machine Learning\\Text Mining\\Python\\Twitter disaster analysis')"
   ]
  },
  {
   "cell_type": "code",
   "execution_count": 3,
   "metadata": {},
   "outputs": [],
   "source": [
    "df_train = pd.read_csv('train.csv')\n",
    "df_test = pd.read_csv(\"test.csv\")"
   ]
  },
  {
   "cell_type": "code",
   "execution_count": 4,
   "metadata": {},
   "outputs": [
    {
     "name": "stdout",
     "output_type": "stream",
     "text": [
      "(7613, 5)\n",
      "(3263, 4)\n"
     ]
    }
   ],
   "source": [
    "print(df_train.shape)\n",
    "print(df_test.shape)"
   ]
  },
  {
   "cell_type": "code",
   "execution_count": 5,
   "metadata": {},
   "outputs": [
    {
     "data": {
      "text/html": [
       "<div>\n",
       "<style scoped>\n",
       "    .dataframe tbody tr th:only-of-type {\n",
       "        vertical-align: middle;\n",
       "    }\n",
       "\n",
       "    .dataframe tbody tr th {\n",
       "        vertical-align: top;\n",
       "    }\n",
       "\n",
       "    .dataframe thead th {\n",
       "        text-align: right;\n",
       "    }\n",
       "</style>\n",
       "<table border=\"1\" class=\"dataframe\">\n",
       "  <thead>\n",
       "    <tr style=\"text-align: right;\">\n",
       "      <th></th>\n",
       "      <th>id</th>\n",
       "      <th>keyword</th>\n",
       "      <th>location</th>\n",
       "      <th>text</th>\n",
       "      <th>target</th>\n",
       "    </tr>\n",
       "  </thead>\n",
       "  <tbody>\n",
       "    <tr>\n",
       "      <th>0</th>\n",
       "      <td>1</td>\n",
       "      <td>NaN</td>\n",
       "      <td>NaN</td>\n",
       "      <td>Our Deeds are the Reason of this #earthquake M...</td>\n",
       "      <td>1</td>\n",
       "    </tr>\n",
       "    <tr>\n",
       "      <th>1</th>\n",
       "      <td>4</td>\n",
       "      <td>NaN</td>\n",
       "      <td>NaN</td>\n",
       "      <td>Forest fire near La Ronge Sask. Canada</td>\n",
       "      <td>1</td>\n",
       "    </tr>\n",
       "    <tr>\n",
       "      <th>2</th>\n",
       "      <td>5</td>\n",
       "      <td>NaN</td>\n",
       "      <td>NaN</td>\n",
       "      <td>All residents asked to 'shelter in place' are ...</td>\n",
       "      <td>1</td>\n",
       "    </tr>\n",
       "    <tr>\n",
       "      <th>3</th>\n",
       "      <td>6</td>\n",
       "      <td>NaN</td>\n",
       "      <td>NaN</td>\n",
       "      <td>13,000 people receive #wildfires evacuation or...</td>\n",
       "      <td>1</td>\n",
       "    </tr>\n",
       "    <tr>\n",
       "      <th>4</th>\n",
       "      <td>7</td>\n",
       "      <td>NaN</td>\n",
       "      <td>NaN</td>\n",
       "      <td>Just got sent this photo from Ruby #Alaska as ...</td>\n",
       "      <td>1</td>\n",
       "    </tr>\n",
       "  </tbody>\n",
       "</table>\n",
       "</div>"
      ],
      "text/plain": [
       "   id keyword location                                               text  \\\n",
       "0   1     NaN      NaN  Our Deeds are the Reason of this #earthquake M...   \n",
       "1   4     NaN      NaN             Forest fire near La Ronge Sask. Canada   \n",
       "2   5     NaN      NaN  All residents asked to 'shelter in place' are ...   \n",
       "3   6     NaN      NaN  13,000 people receive #wildfires evacuation or...   \n",
       "4   7     NaN      NaN  Just got sent this photo from Ruby #Alaska as ...   \n",
       "\n",
       "   target  \n",
       "0       1  \n",
       "1       1  \n",
       "2       1  \n",
       "3       1  \n",
       "4       1  "
      ]
     },
     "execution_count": 5,
     "metadata": {},
     "output_type": "execute_result"
    }
   ],
   "source": [
    "df_train.head()"
   ]
  },
  {
   "cell_type": "code",
   "execution_count": 6,
   "metadata": {},
   "outputs": [
    {
     "data": {
      "text/html": [
       "<div>\n",
       "<style scoped>\n",
       "    .dataframe tbody tr th:only-of-type {\n",
       "        vertical-align: middle;\n",
       "    }\n",
       "\n",
       "    .dataframe tbody tr th {\n",
       "        vertical-align: top;\n",
       "    }\n",
       "\n",
       "    .dataframe thead th {\n",
       "        text-align: right;\n",
       "    }\n",
       "</style>\n",
       "<table border=\"1\" class=\"dataframe\">\n",
       "  <thead>\n",
       "    <tr style=\"text-align: right;\">\n",
       "      <th></th>\n",
       "      <th>id</th>\n",
       "      <th>keyword</th>\n",
       "      <th>location</th>\n",
       "      <th>text</th>\n",
       "      <th>target</th>\n",
       "    </tr>\n",
       "  </thead>\n",
       "  <tbody>\n",
       "    <tr>\n",
       "      <th>6873</th>\n",
       "      <td>9854</td>\n",
       "      <td>trauma</td>\n",
       "      <td>Chicago, Illinois</td>\n",
       "      <td>80 @UChicago faculty members pushing universit...</td>\n",
       "      <td>1</td>\n",
       "    </tr>\n",
       "    <tr>\n",
       "      <th>556</th>\n",
       "      <td>805</td>\n",
       "      <td>battle</td>\n",
       "      <td>USA</td>\n",
       "      <td>Black Eye 9: A space battle occurred at Star M...</td>\n",
       "      <td>1</td>\n",
       "    </tr>\n",
       "    <tr>\n",
       "      <th>205</th>\n",
       "      <td>290</td>\n",
       "      <td>ambulance</td>\n",
       "      <td>NaN</td>\n",
       "      <td>What's the police or ambulance number in Lesot...</td>\n",
       "      <td>0</td>\n",
       "    </tr>\n",
       "    <tr>\n",
       "      <th>3880</th>\n",
       "      <td>5518</td>\n",
       "      <td>flattened</td>\n",
       "      <td>Bow, NH</td>\n",
       "      <td>IDEAS IN FOOD: Flattened http://t.co/QfrAWLn4BA</td>\n",
       "      <td>0</td>\n",
       "    </tr>\n",
       "    <tr>\n",
       "      <th>6206</th>\n",
       "      <td>8856</td>\n",
       "      <td>smoke</td>\n",
       "      <td>NaN</td>\n",
       "      <td>In 2014 I will only smoke crqck if I becyme a ...</td>\n",
       "      <td>0</td>\n",
       "    </tr>\n",
       "    <tr>\n",
       "      <th>3537</th>\n",
       "      <td>5059</td>\n",
       "      <td>eyewitness</td>\n",
       "      <td>New York, NY</td>\n",
       "      <td>Freed #BokoHaram captives speak up: ÛÏI will ...</td>\n",
       "      <td>0</td>\n",
       "    </tr>\n",
       "    <tr>\n",
       "      <th>4662</th>\n",
       "      <td>6628</td>\n",
       "      <td>inundated</td>\n",
       "      <td>the Dirty D</td>\n",
       "      <td>@MI_Country_Hick pfft! I wish I had a bot like...</td>\n",
       "      <td>0</td>\n",
       "    </tr>\n",
       "    <tr>\n",
       "      <th>4979</th>\n",
       "      <td>7104</td>\n",
       "      <td>military</td>\n",
       "      <td>canada</td>\n",
       "      <td>Senator 'alarmed' by reports U.S. military fam...</td>\n",
       "      <td>1</td>\n",
       "    </tr>\n",
       "    <tr>\n",
       "      <th>6670</th>\n",
       "      <td>9559</td>\n",
       "      <td>thunder</td>\n",
       "      <td>Enfield, UK</td>\n",
       "      <td>Illusoria Icarus nowplaying check out http://t...</td>\n",
       "      <td>0</td>\n",
       "    </tr>\n",
       "    <tr>\n",
       "      <th>3379</th>\n",
       "      <td>4840</td>\n",
       "      <td>evacuation</td>\n",
       "      <td>Northern California U.S.A.</td>\n",
       "      <td>Updated #RockyFire map with Mandatory Evacuati...</td>\n",
       "      <td>1</td>\n",
       "    </tr>\n",
       "  </tbody>\n",
       "</table>\n",
       "</div>"
      ],
      "text/plain": [
       "        id     keyword                    location  \\\n",
       "6873  9854      trauma           Chicago, Illinois   \n",
       "556    805      battle                         USA   \n",
       "205    290   ambulance                         NaN   \n",
       "3880  5518   flattened                     Bow, NH   \n",
       "6206  8856       smoke                         NaN   \n",
       "3537  5059  eyewitness                New York, NY   \n",
       "4662  6628   inundated                 the Dirty D   \n",
       "4979  7104    military                      canada   \n",
       "6670  9559     thunder                 Enfield, UK   \n",
       "3379  4840  evacuation  Northern California U.S.A.   \n",
       "\n",
       "                                                   text  target  \n",
       "6873  80 @UChicago faculty members pushing universit...       1  \n",
       "556   Black Eye 9: A space battle occurred at Star M...       1  \n",
       "205   What's the police or ambulance number in Lesot...       0  \n",
       "3880    IDEAS IN FOOD: Flattened http://t.co/QfrAWLn4BA       0  \n",
       "6206  In 2014 I will only smoke crqck if I becyme a ...       0  \n",
       "3537  Freed #BokoHaram captives speak up: ÛÏI will ...       0  \n",
       "4662  @MI_Country_Hick pfft! I wish I had a bot like...       0  \n",
       "4979  Senator 'alarmed' by reports U.S. military fam...       1  \n",
       "6670  Illusoria Icarus nowplaying check out http://t...       0  \n",
       "3379  Updated #RockyFire map with Mandatory Evacuati...       1  "
      ]
     },
     "execution_count": 6,
     "metadata": {},
     "output_type": "execute_result"
    }
   ],
   "source": [
    "df_train.sample(10)"
   ]
  },
  {
   "cell_type": "code",
   "execution_count": 7,
   "metadata": {},
   "outputs": [
    {
     "data": {
      "text/html": [
       "<div>\n",
       "<style scoped>\n",
       "    .dataframe tbody tr th:only-of-type {\n",
       "        vertical-align: middle;\n",
       "    }\n",
       "\n",
       "    .dataframe tbody tr th {\n",
       "        vertical-align: top;\n",
       "    }\n",
       "\n",
       "    .dataframe thead th {\n",
       "        text-align: right;\n",
       "    }\n",
       "</style>\n",
       "<table border=\"1\" class=\"dataframe\">\n",
       "  <thead>\n",
       "    <tr style=\"text-align: right;\">\n",
       "      <th></th>\n",
       "      <th>id</th>\n",
       "      <th>target</th>\n",
       "    </tr>\n",
       "  </thead>\n",
       "  <tbody>\n",
       "    <tr>\n",
       "      <th>count</th>\n",
       "      <td>7613.000000</td>\n",
       "      <td>7613.00000</td>\n",
       "    </tr>\n",
       "    <tr>\n",
       "      <th>mean</th>\n",
       "      <td>5441.934848</td>\n",
       "      <td>0.42966</td>\n",
       "    </tr>\n",
       "    <tr>\n",
       "      <th>std</th>\n",
       "      <td>3137.116090</td>\n",
       "      <td>0.49506</td>\n",
       "    </tr>\n",
       "    <tr>\n",
       "      <th>min</th>\n",
       "      <td>1.000000</td>\n",
       "      <td>0.00000</td>\n",
       "    </tr>\n",
       "    <tr>\n",
       "      <th>25%</th>\n",
       "      <td>2734.000000</td>\n",
       "      <td>0.00000</td>\n",
       "    </tr>\n",
       "    <tr>\n",
       "      <th>50%</th>\n",
       "      <td>5408.000000</td>\n",
       "      <td>0.00000</td>\n",
       "    </tr>\n",
       "    <tr>\n",
       "      <th>75%</th>\n",
       "      <td>8146.000000</td>\n",
       "      <td>1.00000</td>\n",
       "    </tr>\n",
       "    <tr>\n",
       "      <th>max</th>\n",
       "      <td>10873.000000</td>\n",
       "      <td>1.00000</td>\n",
       "    </tr>\n",
       "  </tbody>\n",
       "</table>\n",
       "</div>"
      ],
      "text/plain": [
       "                 id      target\n",
       "count   7613.000000  7613.00000\n",
       "mean    5441.934848     0.42966\n",
       "std     3137.116090     0.49506\n",
       "min        1.000000     0.00000\n",
       "25%     2734.000000     0.00000\n",
       "50%     5408.000000     0.00000\n",
       "75%     8146.000000     1.00000\n",
       "max    10873.000000     1.00000"
      ]
     },
     "execution_count": 7,
     "metadata": {},
     "output_type": "execute_result"
    }
   ],
   "source": [
    "df_train.describe()"
   ]
  },
  {
   "cell_type": "code",
   "execution_count": 8,
   "metadata": {},
   "outputs": [
    {
     "data": {
      "text/plain": [
       "id             0\n",
       "keyword       61\n",
       "location    2533\n",
       "text           0\n",
       "target         0\n",
       "dtype: int64"
      ]
     },
     "execution_count": 8,
     "metadata": {},
     "output_type": "execute_result"
    }
   ],
   "source": [
    "df_train.isnull().sum()"
   ]
  },
  {
   "cell_type": "code",
   "execution_count": 9,
   "metadata": {},
   "outputs": [
    {
     "data": {
      "text/plain": [
       "([<matplotlib.axis.XTick at 0x166d65c6e88>,\n",
       "  <matplotlib.axis.XTick at 0x166d42c2dc8>],\n",
       " [Text(0, 0, 'Fake (No Disaster)'), Text(0, 0, 'Real (Disaster)')])"
      ]
     },
     "execution_count": 9,
     "metadata": {},
     "output_type": "execute_result"
    },
    {
     "data": {
      "image/png": "[encoded data removed]",
      "text/plain": [
       "<Figure size 432x288 with 1 Axes>"
      ]
     },
     "metadata": {},
     "output_type": "display_data"
    }
   ],
   "source": [
    "#Data visualization\n",
    "sns.set_style('darkgrid')\n",
    "sns.countplot(x = 'target', data = df_train)\n",
    "Lables = ('Fake (No Disaster)', 'Real (Disaster)')\n",
    "plt.xticks(range(2), Lables)"
   ]
  },
  {
   "cell_type": "code",
   "execution_count": 10,
   "metadata": {},
   "outputs": [
    {
     "data": {
      "text/plain": [
       "derailment     39\n",
       "wreckage       39\n",
       "outbreak       39\n",
       "debris         37\n",
       "oil%20spill    37\n",
       "Name: keyword, dtype: int64"
      ]
     },
     "execution_count": 10,
     "metadata": {},
     "output_type": "execute_result"
    }
   ],
   "source": [
    "df_train[df_train['target']== 1]['keyword'].value_counts().head()"
   ]
  },
  {
   "cell_type": "code",
   "execution_count": 11,
   "metadata": {},
   "outputs": [
    {
     "data": {
      "text/plain": [
       "body%20bags    40\n",
       "armageddon     37\n",
       "harm           37\n",
       "ruin           36\n",
       "wrecked        36\n",
       "Name: keyword, dtype: int64"
      ]
     },
     "execution_count": 11,
     "metadata": {},
     "output_type": "execute_result"
    }
   ],
   "source": [
    "df_train[df_train['target']== 0]['keyword'].value_counts().head()"
   ]
  },
  {
   "cell_type": "code",
   "execution_count": 12,
   "metadata": {},
   "outputs": [],
   "source": [
    "#Let's see if the length of the tweets have any relation with the disaster. People tend to express their thoughts in the limited space of a tweet.\n",
    "df_train['size'] = df_train['text'].apply(lambda x: len(x))"
   ]
  },
  {
   "cell_type": "code",
   "execution_count": 13,
   "metadata": {},
   "outputs": [
    {
     "data": {
      "text/html": [
       "<div>\n",
       "<style scoped>\n",
       "    .dataframe tbody tr th:only-of-type {\n",
       "        vertical-align: middle;\n",
       "    }\n",
       "\n",
       "    .dataframe tbody tr th {\n",
       "        vertical-align: top;\n",
       "    }\n",
       "\n",
       "    .dataframe thead th {\n",
       "        text-align: right;\n",
       "    }\n",
       "</style>\n",
       "<table border=\"1\" class=\"dataframe\">\n",
       "  <thead>\n",
       "    <tr style=\"text-align: right;\">\n",
       "      <th></th>\n",
       "      <th>id</th>\n",
       "      <th>keyword</th>\n",
       "      <th>location</th>\n",
       "      <th>text</th>\n",
       "      <th>target</th>\n",
       "      <th>size</th>\n",
       "    </tr>\n",
       "  </thead>\n",
       "  <tbody>\n",
       "    <tr>\n",
       "      <th>3437</th>\n",
       "      <td>4913</td>\n",
       "      <td>exploded</td>\n",
       "      <td>?????? in Yokohama Japan</td>\n",
       "      <td>Kakeru Teduka: Bfore 70years of today in Hiros...</td>\n",
       "      <td>1</td>\n",
       "      <td>125</td>\n",
       "    </tr>\n",
       "    <tr>\n",
       "      <th>6083</th>\n",
       "      <td>8690</td>\n",
       "      <td>sinkhole</td>\n",
       "      <td>NaN</td>\n",
       "      <td>There's a sinkhole in Brooklyn ?!</td>\n",
       "      <td>1</td>\n",
       "      <td>33</td>\n",
       "    </tr>\n",
       "    <tr>\n",
       "      <th>1512</th>\n",
       "      <td>2183</td>\n",
       "      <td>catastrophic</td>\n",
       "      <td>Bouvet Island</td>\n",
       "      <td>@APANO55 @JamesMelville 99% of Scientists don...</td>\n",
       "      <td>1</td>\n",
       "      <td>118</td>\n",
       "    </tr>\n",
       "    <tr>\n",
       "      <th>1957</th>\n",
       "      <td>2819</td>\n",
       "      <td>cyclone</td>\n",
       "      <td>NaN</td>\n",
       "      <td>BBC Forced To Retract False Claims About Cyclo...</td>\n",
       "      <td>1</td>\n",
       "      <td>96</td>\n",
       "    </tr>\n",
       "    <tr>\n",
       "      <th>4436</th>\n",
       "      <td>6312</td>\n",
       "      <td>hostage</td>\n",
       "      <td>Global</td>\n",
       "      <td>The horrific story of being a hostage - The ho...</td>\n",
       "      <td>1</td>\n",
       "      <td>130</td>\n",
       "    </tr>\n",
       "  </tbody>\n",
       "</table>\n",
       "</div>"
      ],
      "text/plain": [
       "        id       keyword                  location  \\\n",
       "3437  4913      exploded  ?????? in Yokohama Japan   \n",
       "6083  8690      sinkhole                       NaN   \n",
       "1512  2183  catastrophic             Bouvet Island   \n",
       "1957  2819       cyclone                       NaN   \n",
       "4436  6312       hostage                    Global   \n",
       "\n",
       "                                                   text  target  size  \n",
       "3437  Kakeru Teduka: Bfore 70years of today in Hiros...       1   125  \n",
       "6083                  There's a sinkhole in Brooklyn ?!       1    33  \n",
       "1512  @APANO55 @JamesMelville 99% of Scientists don...       1   118  \n",
       "1957  BBC Forced To Retract False Claims About Cyclo...       1    96  \n",
       "4436  The horrific story of being a hostage - The ho...       1   130  "
      ]
     },
     "execution_count": 13,
     "metadata": {},
     "output_type": "execute_result"
    }
   ],
   "source": [
    "df_train.sample(5)"
   ]
  },
  {
   "cell_type": "code",
   "execution_count": 14,
   "metadata": {},
   "outputs": [
    {
     "data": {
      "text/plain": [
       "count    7613.000000\n",
       "mean      101.037436\n",
       "std        33.781325\n",
       "min         7.000000\n",
       "25%        78.000000\n",
       "50%       107.000000\n",
       "75%       133.000000\n",
       "max       157.000000\n",
       "Name: size, dtype: float64"
      ]
     },
     "execution_count": 14,
     "metadata": {},
     "output_type": "execute_result"
    }
   ],
   "source": [
    "df_train['size'].describe()"
   ]
  },
  {
   "cell_type": "code",
   "execution_count": 15,
   "metadata": {},
   "outputs": [
    {
     "data": {
      "image/png": "[encoded data removed]",
      "text/plain": [
       "<Figure size 432x288 with 1 Axes>"
      ]
     },
     "metadata": {},
     "output_type": "display_data"
    }
   ],
   "source": [
    "#Create distribution chart to visualize text length distribution\n",
    "x = df_train['size']\n",
    "sns.kdeplot(x, shade=True);"
   ]
  },
  {
   "cell_type": "code",
   "execution_count": 16,
   "metadata": {},
   "outputs": [
    {
     "data": {
      "image/png": "[encoded data removed]",
      "text/plain": [
       "<Figure size 432x288 with 1 Axes>"
      ]
     },
     "metadata": {},
     "output_type": "display_data"
    }
   ],
   "source": [
    "x = df_train['size']\n",
    "sns.kdeplot(x, shade=True, cut=0)\n",
    "sns.rugplot(x);"
   ]
  },
  {
   "cell_type": "code",
   "execution_count": 17,
   "metadata": {},
   "outputs": [
    {
     "data": {
      "image/png": "[encoded data removed]",
      "text/plain": [
       "<Figure size 432x288 with 1 Axes>"
      ]
     },
     "metadata": {},
     "output_type": "display_data"
    }
   ],
   "source": [
    "from scipy import stats\n",
    "sns.distplot(x, kde=False, fit=stats.gamma);"
   ]
  },
  {
   "cell_type": "code",
   "execution_count": 18,
   "metadata": {},
   "outputs": [
    {
     "data": {
      "image/png": "[encoded data removed]",
      "text/plain": [
       "<Figure size 432x288 with 1 Axes>"
      ]
     },
     "metadata": {},
     "output_type": "display_data"
    }
   ],
   "source": [
    "#creating a visualization of the distribution of text length in comparision to target feature\n",
    "sns.distplot(df_train[df_train['target']== 1]['keyword'].value_counts().head())\n",
    "sns.distplot(df_train[df_train['target']== 0]['keyword'].value_counts().head());"
   ]
  },
  {
   "cell_type": "code",
   "execution_count": 19,
   "metadata": {},
   "outputs": [
    {
     "data": {
      "image/png": "[encoded data removed]",
      "text/plain": [
       "<Figure size 432x288 with 1 Axes>"
      ]
     },
     "metadata": {},
     "output_type": "display_data"
    }
   ],
   "source": [
    "sns.distplot(df_train[df_train['target']== 1]['keyword'].value_counts(), kde=False);\n",
    "plt.axvline(0, color=\"k\", linestyle=\"--\");"
   ]
  },
  {
   "cell_type": "code",
   "execution_count": 20,
   "metadata": {},
   "outputs": [
    {
     "data": {
      "text/plain": [
       "<matplotlib.axes._subplots.AxesSubplot at 0x166d6f04bc8>"
      ]
     },
     "execution_count": 20,
     "metadata": {},
     "output_type": "execute_result"
    },
    {
     "data": {
      "image/png": "[encoded data removed]",
      "text/plain": [
       "<Figure size 432x288 with 1 Axes>"
      ]
     },
     "metadata": {},
     "output_type": "display_data"
    }
   ],
   "source": [
    "sns.kdeplot(df_train[df_train['target']== 1]['keyword'].value_counts(), shade=True)"
   ]
  },
  {
   "cell_type": "code",
   "execution_count": 21,
   "metadata": {},
   "outputs": [
    {
     "data": {
      "image/png": "[encoded data removed]",
      "text/plain": [
       "<Figure size 432x288 with 1 Axes>"
      ]
     },
     "metadata": {},
     "output_type": "display_data"
    }
   ],
   "source": [
    "sns.distplot(df_train[df_train['target']== 1]['keyword'].value_counts())\n",
    "sns.distplot(df_train[df_train['target']== 0]['keyword'].value_counts());"
   ]
  },
  {
   "cell_type": "code",
   "execution_count": 22,
   "metadata": {},
   "outputs": [],
   "source": [
    "# Twitter length disrtibution"
   ]
  },
  {
   "cell_type": "code",
   "execution_count": 23,
   "metadata": {},
   "outputs": [
    {
     "data": {
      "image/png": "[encoded data removed]",
      "text/plain": [
       "<Figure size 1481.62x360 with 1 Axes>"
      ]
     },
     "metadata": {},
     "output_type": "display_data"
    }
   ],
   "source": [
    "\n",
    "with sns.axes_style('white'):\n",
    "    g = sns.factorplot(\"size\", data=df_train, aspect=4.0, kind='count',\n",
    "                       hue = \"target\", order=range(0, 165, 10))\n",
    "    g.set_ylabels('Number of People')"
   ]
  },
  {
   "cell_type": "code",
   "execution_count": null,
   "metadata": {},
   "outputs": [],
   "source": []
  },
  {
   "cell_type": "code",
   "execution_count": 24,
   "metadata": {},
   "outputs": [
    {
     "data": {
      "text/plain": [
       "Text(0.5, 1.0, 'Test Set')"
      ]
     },
     "execution_count": 24,
     "metadata": {},
     "output_type": "execute_result"
    },
    {
     "data": {
      "image/png": "[encoded data removed]",
      "text/plain": [
       "<Figure size 800x320 with 2 Axes>"
      ]
     },
     "metadata": {},
     "output_type": "display_data"
    }
   ],
   "source": [
    "missing_cols = ['keyword', 'location']\n",
    "\n",
    "fig, axes = plt.subplots(ncols=2, figsize=(10, 4), dpi=80)\n",
    "\n",
    "sns.barplot(x=df_train[missing_cols].isnull().sum().index, y=df_train[missing_cols].isnull().sum().values, ax=axes[0])\n",
    "sns.barplot(x=df_test[missing_cols].isnull().sum().index, y=df_test[missing_cols].isnull().sum().values, ax=axes[1])\n",
    "\n",
    "axes[0].set_ylabel('Missing Value Count', size=15, labelpad=20)\n",
    "axes[0].tick_params(axis='x', labelsize=15)\n",
    "axes[0].tick_params(axis='y', labelsize=15)\n",
    "axes[1].tick_params(axis='x', labelsize=15)\n",
    "axes[1].tick_params(axis='y', labelsize=15)\n",
    "\n",
    "axes[0].set_title('Training Set', fontsize=13)\n",
    "axes[1].set_title('Test Set', fontsize=13)"
   ]
  },
  {
   "cell_type": "code",
   "execution_count": 28,
   "metadata": {},
   "outputs": [
    {
     "data": {
      "image/png": "[encoded data removed]",
      "text/plain": [
       "<Figure size 432x108 with 1 Axes>"
      ]
     },
     "metadata": {},
     "output_type": "display_data"
    }
   ],
   "source": [
    "g = sns.catplot(x=\"size\", y=\"target\",\n",
    "                kind=\"box\", orient=\"h\", height=1.5, aspect=4,\n",
    "                data=df_train)\n",
    "g.set(xscale=\"log\");"
   ]
  },
  {
   "cell_type": "code",
   "execution_count": 39,
   "metadata": {},
   "outputs": [
    {
     "data": {
      "text/plain": [
       "<matplotlib.axes._subplots.AxesSubplot at 0x166ec65de08>"
      ]
     },
     "execution_count": 39,
     "metadata": {},
     "output_type": "execute_result"
    },
    {
     "data": {
      "image/png": "[encoded data removed]",
      "text/plain": [
       "<Figure size 432x288 with 1 Axes>"
      ]
     },
     "metadata": {},
     "output_type": "display_data"
    }
   ],
   "source": [
    "sns.boxplot(x = 'target', y = 'size', data = df_train, palette = \"rainbow\")"
   ]
  },
  {
   "cell_type": "code",
   "execution_count": 54,
   "metadata": {},
   "outputs": [
    {
     "data": {
      "image/png": "[encoded data removed]",
      "text/plain": [
       "<Figure size 432x288 with 1 Axes>"
      ]
     },
     "metadata": {},
     "output_type": "display_data"
    },
    {
     "data": {
      "text/plain": [
       "<matplotlib.axes._subplots.AxesSubplot at 0x166ef6195c8>"
      ]
     },
     "execution_count": 54,
     "metadata": {},
     "output_type": "execute_result"
    },
    {
     "data": {
      "image/png": "[encoded data removed]",
      "text/plain": [
       "<Figure size 864x432 with 1 Axes>"
      ]
     },
     "metadata": {},
     "output_type": "display_data"
    }
   ],
   "source": [
    "from nltk import FreqDist\n",
    "from collections import defaultdict\n",
    "from string import punctuation\n",
    "\n",
    "text_disaster = df_train[df_train['target']==1]['text'].str.split()\n",
    "text_Nodisaster = df_train[df_train['target']==0]['text'].str.split()\n",
    "\n",
    "fdist = FreqDist(word.lower() for sentence in text_disaster for word in sentence)\n",
    "fdist.plot(10, title=\"Disaster tweets\")\n",
    "\n",
    "dic=defaultdict(int)\n",
    "punct = [fdist[p] for p in punctuation]\n",
    "plt.figure(figsize=(12, 6))\n",
    "sns.barplot(punct, list(punctuation))"
   ]
  },
  {
   "cell_type": "markdown",
   "metadata": {},
   "source": [
    "# Data cleaning"
   ]
  },
  {
   "cell_type": "code",
   "execution_count": 55,
   "metadata": {},
   "outputs": [],
   "source": [
    "import re\n",
    "from bs4 import BeautifulSoup\n",
    "from nltk.tokenize import WordPunctTokenizer\n",
    "\n",
    "tokenizer = WordPunctTokenizer()\n",
    "twitter_handle = r'@[A-Za-z0-9_]+'                         # remove twitter handle (@username)\n",
    "url_handle = r'http[^ ]+'                                  # remove website URLs that start with 'https?://'\n",
    "combined_handle = r'|'.join((twitter_handle, url_handle))  # join\n",
    "www_handle = r'www.[^ ]+'                                  # remove website URLs that start with 'www.'\n",
    "punctuation_handle = r'\\W+'"
   ]
  },
  {
   "cell_type": "code",
   "execution_count": 56,
   "metadata": {},
   "outputs": [],
   "source": [
    "stopwords = set(pd.read_csv(\"D:\\Datasets\\Machine Learning\\Text Mining\\Python\\Twitter sentiment analysis self driving cars\\stop-word-list.txt\", sep = \"\\n\", header = 0).stopword)"
   ]
  },
  {
   "cell_type": "code",
   "execution_count": 57,
   "metadata": {},
   "outputs": [],
   "source": [
    "def process_data(text):\n",
    "    soup = BeautifulSoup(text, 'lxml')\n",
    "    souped = soup.get_text()\n",
    "    try:\n",
    "        text = souped.decode(\"utf=8-sig\").replace(u\"\\ufffd\", \"?\")\n",
    "    except:\n",
    "        text = souped\n",
    "    cleaned_text = re.sub(punctuation_handle, \" \",(re.sub(www_handle, '', re.sub(combined_handle, '', text)).lower()))\n",
    "    cleaned_text = ' '.join([word for word in cleaned_text.split() if word not in stopwords])\n",
    "    \n",
    "    return (\" \".join([word for word in tokenizer.tokenize(cleaned_text) if len(word) > 1])).strip()"
   ]
  },
  {
   "cell_type": "code",
   "execution_count": 117,
   "metadata": {},
   "outputs": [],
   "source": [
    "# 2 Try\n",
    "def cleaned_tweet(text):\n",
    "    import re\n",
    "    from nltk.corpus import stopwords\n",
    "    from nltk.stem.porter import PorterStemmer\n",
    "    tweets = re.sub(\"[^a-zA-Z]\", ' ', text)\n",
    "    tweets = tweets.lower()\n",
    "    tweets = tweets.split()\n",
    "    ps = PorterStemmer()\n",
    "    tweets = [ps.stem(word) for word in tweets if not word in set(stopwords.words('english'))]\n",
    "    tweets = ' '.join(tweets)\n",
    "    return tweets"
   ]
  },
  {
   "cell_type": "code",
   "execution_count": 70,
   "metadata": {},
   "outputs": [
    {
     "data": {
      "text/html": [
       "<div>\n",
       "<style scoped>\n",
       "    .dataframe tbody tr th:only-of-type {\n",
       "        vertical-align: middle;\n",
       "    }\n",
       "\n",
       "    .dataframe tbody tr th {\n",
       "        vertical-align: top;\n",
       "    }\n",
       "\n",
       "    .dataframe thead th {\n",
       "        text-align: right;\n",
       "    }\n",
       "</style>\n",
       "<table border=\"1\" class=\"dataframe\">\n",
       "  <thead>\n",
       "    <tr style=\"text-align: right;\">\n",
       "      <th></th>\n",
       "      <th>id</th>\n",
       "      <th>keyword</th>\n",
       "      <th>location</th>\n",
       "      <th>text</th>\n",
       "      <th>clean_text</th>\n",
       "    </tr>\n",
       "  </thead>\n",
       "  <tbody>\n",
       "    <tr>\n",
       "      <th>532</th>\n",
       "      <td>1742</td>\n",
       "      <td>buildings%20burning</td>\n",
       "      <td>NaN</td>\n",
       "      <td>kou is like [CASH REGISTER] [BUILDINGS BURNING]</td>\n",
       "      <td>kou like cash register buildings burning</td>\n",
       "    </tr>\n",
       "    <tr>\n",
       "      <th>233</th>\n",
       "      <td>757</td>\n",
       "      <td>avalanche</td>\n",
       "      <td>Turin</td>\n",
       "      <td>Photo: #Repost @gregskazphotography with @repo...</td>\n",
       "      <td>photo repost åáåáåá avalanche ambi charging ha...</td>\n",
       "    </tr>\n",
       "    <tr>\n",
       "      <th>1818</th>\n",
       "      <td>6144</td>\n",
       "      <td>hijack</td>\n",
       "      <td>FCT, Abuja</td>\n",
       "      <td>Tension In Bayelsa As Patience Jonathan Plans ...</td>\n",
       "      <td>tension bayelsa patience jonathan plans hijack...</td>\n",
       "    </tr>\n",
       "    <tr>\n",
       "      <th>632</th>\n",
       "      <td>2062</td>\n",
       "      <td>casualty</td>\n",
       "      <td>Canada | #LUX</td>\n",
       "      <td>@Rx_Casualty @Vpzedd @Daintt_M call</td>\n",
       "      <td></td>\n",
       "    </tr>\n",
       "    <tr>\n",
       "      <th>899</th>\n",
       "      <td>2967</td>\n",
       "      <td>dead</td>\n",
       "      <td>NaN</td>\n",
       "      <td>???????? this the dead ass truth you pay for s...</td>\n",
       "      <td>dead ass truth pay shit gone use</td>\n",
       "    </tr>\n",
       "  </tbody>\n",
       "</table>\n",
       "</div>"
      ],
      "text/plain": [
       "        id              keyword       location  \\\n",
       "532   1742  buildings%20burning            NaN   \n",
       "233    757            avalanche          Turin   \n",
       "1818  6144               hijack    FCT, Abuja    \n",
       "632   2062             casualty  Canada | #LUX   \n",
       "899   2967                 dead            NaN   \n",
       "\n",
       "                                                   text  \\\n",
       "532     kou is like [CASH REGISTER] [BUILDINGS BURNING]   \n",
       "233   Photo: #Repost @gregskazphotography with @repo...   \n",
       "1818  Tension In Bayelsa As Patience Jonathan Plans ...   \n",
       "632                 @Rx_Casualty @Vpzedd @Daintt_M call   \n",
       "899   ???????? this the dead ass truth you pay for s...   \n",
       "\n",
       "                                             clean_text  \n",
       "532            kou like cash register buildings burning  \n",
       "233   photo repost åáåáåá avalanche ambi charging ha...  \n",
       "1818  tension bayelsa patience jonathan plans hijack...  \n",
       "632                                                      \n",
       "899                    dead ass truth pay shit gone use  "
      ]
     },
     "execution_count": 70,
     "metadata": {},
     "output_type": "execute_result"
    }
   ],
   "source": [
    "cleaned_text = []\n",
    "for text in df_test.text:\n",
    "    cleaned_text.append(process_data(text))\n",
    "\n",
    "clean_text = pd.DataFrame({'clean_text':cleaned_text})\n",
    "df_test = pd.concat([df_test, clean_text], axis = 1)\n",
    "\n",
    "df_test.sample(5)"
   ]
  },
  {
   "cell_type": "code",
   "execution_count": 71,
   "metadata": {},
   "outputs": [
    {
     "data": {
      "text/html": [
       "<div>\n",
       "<style scoped>\n",
       "    .dataframe tbody tr th:only-of-type {\n",
       "        vertical-align: middle;\n",
       "    }\n",
       "\n",
       "    .dataframe tbody tr th {\n",
       "        vertical-align: top;\n",
       "    }\n",
       "\n",
       "    .dataframe thead th {\n",
       "        text-align: right;\n",
       "    }\n",
       "</style>\n",
       "<table border=\"1\" class=\"dataframe\">\n",
       "  <thead>\n",
       "    <tr style=\"text-align: right;\">\n",
       "      <th></th>\n",
       "      <th>id</th>\n",
       "      <th>keyword</th>\n",
       "      <th>location</th>\n",
       "      <th>text</th>\n",
       "      <th>target</th>\n",
       "      <th>size</th>\n",
       "      <th>clean_text</th>\n",
       "      <th>clean_text</th>\n",
       "    </tr>\n",
       "  </thead>\n",
       "  <tbody>\n",
       "    <tr>\n",
       "      <th>6556</th>\n",
       "      <td>9380</td>\n",
       "      <td>survived</td>\n",
       "      <td>Bulgaria</td>\n",
       "      <td>Cute &amp;amp; all livin' the life then you zoom i...</td>\n",
       "      <td>0</td>\n",
       "      <td>131</td>\n",
       "      <td>cute livin life zoom face meme ready ve seen g...</td>\n",
       "      <td>cute livin life zoom face meme ready ve seen g...</td>\n",
       "    </tr>\n",
       "    <tr>\n",
       "      <th>7585</th>\n",
       "      <td>10839</td>\n",
       "      <td>NaN</td>\n",
       "      <td>NaN</td>\n",
       "      <td>Calgary Police Flood Road Closures in Calgary....</td>\n",
       "      <td>1</td>\n",
       "      <td>69</td>\n",
       "      <td>calgary police flood road closures calgary</td>\n",
       "      <td>calgary police flood road closures calgary</td>\n",
       "    </tr>\n",
       "    <tr>\n",
       "      <th>7334</th>\n",
       "      <td>10499</td>\n",
       "      <td>wildfire</td>\n",
       "      <td>Ashland, Oregon</td>\n",
       "      <td>Be ember aware! http://t.co/LZmL1xB2nH</td>\n",
       "      <td>1</td>\n",
       "      <td>38</td>\n",
       "      <td>ember aware</td>\n",
       "      <td>ember aware</td>\n",
       "    </tr>\n",
       "    <tr>\n",
       "      <th>3140</th>\n",
       "      <td>4514</td>\n",
       "      <td>emergency</td>\n",
       "      <td>denmark</td>\n",
       "      <td>AlaskaÛªs Prince of Wales #ArchipelagoWolves ...</td>\n",
       "      <td>1</td>\n",
       "      <td>139</td>\n",
       "      <td>alaska ûªs prince wales archipelagowolves near...</td>\n",
       "      <td>alaska ûªs prince wales archipelagowolves near...</td>\n",
       "    </tr>\n",
       "    <tr>\n",
       "      <th>3138</th>\n",
       "      <td>4509</td>\n",
       "      <td>emergency</td>\n",
       "      <td>USA</td>\n",
       "      <td>Deals : http://t.co/ddhWoRI5w1 #37592 Temporar...</td>\n",
       "      <td>0</td>\n",
       "      <td>139</td>\n",
       "      <td>deals 37592 temporary fake tooth teeth replace...</td>\n",
       "      <td>deals 37592 temporary fake tooth teeth replace...</td>\n",
       "    </tr>\n",
       "  </tbody>\n",
       "</table>\n",
       "</div>"
      ],
      "text/plain": [
       "         id    keyword         location  \\\n",
       "6556   9380   survived         Bulgaria   \n",
       "7585  10839        NaN              NaN   \n",
       "7334  10499   wildfire  Ashland, Oregon   \n",
       "3140   4514  emergency          denmark   \n",
       "3138   4509  emergency              USA   \n",
       "\n",
       "                                                   text  target  size  \\\n",
       "6556  Cute &amp; all livin' the life then you zoom i...       0   131   \n",
       "7585  Calgary Police Flood Road Closures in Calgary....       1    69   \n",
       "7334             Be ember aware! http://t.co/LZmL1xB2nH       1    38   \n",
       "3140  AlaskaÛªs Prince of Wales #ArchipelagoWolves ...       1   139   \n",
       "3138  Deals : http://t.co/ddhWoRI5w1 #37592 Temporar...       0   139   \n",
       "\n",
       "                                             clean_text  \\\n",
       "6556  cute livin life zoom face meme ready ve seen g...   \n",
       "7585         calgary police flood road closures calgary   \n",
       "7334                                        ember aware   \n",
       "3140  alaska ûªs prince wales archipelagowolves near...   \n",
       "3138  deals 37592 temporary fake tooth teeth replace...   \n",
       "\n",
       "                                             clean_text  \n",
       "6556  cute livin life zoom face meme ready ve seen g...  \n",
       "7585         calgary police flood road closures calgary  \n",
       "7334                                        ember aware  \n",
       "3140  alaska ûªs prince wales archipelagowolves near...  \n",
       "3138  deals 37592 temporary fake tooth teeth replace...  "
      ]
     },
     "execution_count": 71,
     "metadata": {},
     "output_type": "execute_result"
    }
   ],
   "source": [
    "cleaned_text = []\n",
    "for text in df_train.text:\n",
    "    cleaned_text.append(process_data(text))\n",
    "\n",
    "clean_text = pd.DataFrame({'clean_text':cleaned_text})\n",
    "df_train = pd.concat([df_train, clean_text], axis = 1)\n",
    "\n",
    "df_train.sample(5)"
   ]
  },
  {
   "cell_type": "code",
   "execution_count": 72,
   "metadata": {},
   "outputs": [
    {
     "data": {
      "text/plain": [
       "[('#news', 36),\n",
       " ('#News', 36),\n",
       " ('#hot', 30),\n",
       " ('#prebreak', 30),\n",
       " ('#best', 30),\n",
       " ('#???', 23),\n",
       " ('#??', 20),\n",
       " ('#Hiroshima', 20),\n",
       " ('#GBBO', 16),\n",
       " ('#terrorism', 11),\n",
       " ('#ISIS', 11),\n",
       " ('#NowPlaying', 10),\n",
       " ('#nowplaying', 10),\n",
       " ('#India', 10),\n",
       " ('#Sismo', 10),\n",
       " ('#islam', 10),\n",
       " ('#RT', 9),\n",
       " ('#Directioners', 9),\n",
       " ('#Japan', 9),\n",
       " ('#jobs', 9),\n",
       " ('#CNN', 9),\n",
       " ('#yyc', 9),\n",
       " ('#BBC', 9),\n",
       " ('#earthquake', 8),\n",
       " ('#EDM', 8),\n",
       " ('#DnB', 8),\n",
       " ('#Beyhive', 8),\n",
       " ('#world', 8),\n",
       " ('#abstorm', 8),\n",
       " ('#Nursing', 8),\n",
       " ('#Islam', 8),\n",
       " ('#Dubstep', 7),\n",
       " ('#TrapMusic', 7),\n",
       " ('#Dance', 7),\n",
       " ('#Ices\\x89Û_', 7),\n",
       " ('#', 7),\n",
       " ('#IranDeal', 7),\n",
       " ('#Earthquake', 7),\n",
       " ('#WX', 7),\n",
       " ('#animalrescue', 7),\n",
       " ('#Truth', 7),\n",
       " ('#god', 7),\n",
       " ('#Quran', 7),\n",
       " ('#Lies', 7),\n",
       " ('#US', 6),\n",
       " ('#MTVHottest', 6),\n",
       " ('#Handbag', 6),\n",
       " ('#Womens', 6),\n",
       " ('#\\x89Û_', 6),\n",
       " ('#course', 6)]"
      ]
     },
     "execution_count": 72,
     "metadata": {},
     "output_type": "execute_result"
    }
   ],
   "source": [
    "from collections import Counter \n",
    "raw_text = \" \".join(df_train['text'])\n",
    "hashtags = [w for w in raw_text.split() if w.startswith(\"#\")]\n",
    "hashtags = [w for w in hashtags if \"driver\" not in w.lower()]\n",
    "Counter(hashtags).most_common(50)"
   ]
  },
  {
   "cell_type": "code",
   "execution_count": 73,
   "metadata": {},
   "outputs": [
    {
     "data": {
      "text/plain": [
       "[('@YouTube', 82),\n",
       " ('@', 27),\n",
       " ('@ArianaGrande', 11),\n",
       " ('@POTUS', 9),\n",
       " ('@Change', 9),\n",
       " ('@FoxNews', 9),\n",
       " ('@emmerdale', 8),\n",
       " ('@djicemoon', 7),\n",
       " ('@justinbieber', 7),\n",
       " ('@MikeParrActor', 6),\n",
       " ('@Stretcher', 6),\n",
       " ('@Towel', 6),\n",
       " ('@usatoday', 5),\n",
       " ('@USAgov', 5),\n",
       " ('@YoungHeroesID', 5),\n",
       " ('@invalid', 5),\n",
       " (\"@'aRmageddon\", 4),\n",
       " ('@local_arsonist', 4),\n",
       " ('@LoneWolffur', 4),\n",
       " ('@Michael5SOS', 4),\n",
       " ('@Reuters', 4),\n",
       " ('@RaynbowAffair', 4),\n",
       " ('@DiamondKesawn', 4),\n",
       " ('@Grazed', 4),\n",
       " ('@Rexyy', 4),\n",
       " ('@ViralSpell', 3),\n",
       " ('@TrubGME', 3),\n",
       " ('@eBay', 3),\n",
       " ('@AP', 3),\n",
       " ('@USATODAY', 3),\n",
       " ('@Blizzard_draco', 3),\n",
       " ('@KurtSchlichter', 3),\n",
       " ('@po_st', 3),\n",
       " ('@Calum5SOS', 3),\n",
       " ('@nytimes', 3),\n",
       " ('@sharethis', 3),\n",
       " ('@guardian', 3),\n",
       " ('@ClaytonBryant', 3),\n",
       " ('@accionempresa', 3),\n",
       " ('@gerenciatodos', 3),\n",
       " ('@DavidVonderhaar', 3),\n",
       " ('@realDonaldTrump', 3),\n",
       " ('@unsuckdcmetro', 3),\n",
       " ('@YahooNews', 3),\n",
       " ('@TinyJecht', 3),\n",
       " ('@spinningbot', 3),\n",
       " ('@UN', 3),\n",
       " ('@smh', 3),\n",
       " ('@Refugees', 3),\n",
       " ('@TfLBusAlerts', 3)]"
      ]
     },
     "execution_count": 73,
     "metadata": {},
     "output_type": "execute_result"
    }
   ],
   "source": [
    "#entity analysis Tells youtube most talked about\n",
    "\n",
    "raw_text = \" \".join(df_train['text'])\n",
    "mentions = [w for w in raw_text.split() if w.startswith(\"@\")]\n",
    "Counter(mentions).most_common(50)"
   ]
  },
  {
   "cell_type": "code",
   "execution_count": 96,
   "metadata": {},
   "outputs": [
    {
     "data": {
      "text/html": [
       "<div>\n",
       "<style scoped>\n",
       "    .dataframe tbody tr th:only-of-type {\n",
       "        vertical-align: middle;\n",
       "    }\n",
       "\n",
       "    .dataframe tbody tr th {\n",
       "        vertical-align: top;\n",
       "    }\n",
       "\n",
       "    .dataframe thead th {\n",
       "        text-align: right;\n",
       "    }\n",
       "</style>\n",
       "<table border=\"1\" class=\"dataframe\">\n",
       "  <thead>\n",
       "    <tr style=\"text-align: right;\">\n",
       "      <th></th>\n",
       "      <th>id</th>\n",
       "      <th>keyword</th>\n",
       "      <th>location</th>\n",
       "      <th>text</th>\n",
       "      <th>target</th>\n",
       "      <th>size</th>\n",
       "      <th>clean_text</th>\n",
       "      <th>clean_text</th>\n",
       "      <th>clean_tweet</th>\n",
       "    </tr>\n",
       "  </thead>\n",
       "  <tbody>\n",
       "    <tr>\n",
       "      <th>0</th>\n",
       "      <td>1</td>\n",
       "      <td>NaN</td>\n",
       "      <td>NaN</td>\n",
       "      <td>Our Deeds are the Reason of this #earthquake M...</td>\n",
       "      <td>1</td>\n",
       "      <td>69</td>\n",
       "      <td>deeds reason earthquake allah forgive</td>\n",
       "      <td>deeds reason earthquake allah forgive</td>\n",
       "      <td>deed reason earthquak may allah forgiv us</td>\n",
       "    </tr>\n",
       "    <tr>\n",
       "      <th>1</th>\n",
       "      <td>4</td>\n",
       "      <td>NaN</td>\n",
       "      <td>NaN</td>\n",
       "      <td>Forest fire near La Ronge Sask. Canada</td>\n",
       "      <td>1</td>\n",
       "      <td>38</td>\n",
       "      <td>forest near la ronge sask canada</td>\n",
       "      <td>forest near la ronge sask canada</td>\n",
       "      <td>forest fire near la rong sask canada</td>\n",
       "    </tr>\n",
       "    <tr>\n",
       "      <th>2</th>\n",
       "      <td>5</td>\n",
       "      <td>NaN</td>\n",
       "      <td>NaN</td>\n",
       "      <td>All residents asked to 'shelter in place' are ...</td>\n",
       "      <td>1</td>\n",
       "      <td>133</td>\n",
       "      <td>residents asked shelter place notified officer...</td>\n",
       "      <td>residents asked shelter place notified officer...</td>\n",
       "      <td>resid ask shelter place notifi offic evacu she...</td>\n",
       "    </tr>\n",
       "    <tr>\n",
       "      <th>3</th>\n",
       "      <td>6</td>\n",
       "      <td>NaN</td>\n",
       "      <td>NaN</td>\n",
       "      <td>13,000 people receive #wildfires evacuation or...</td>\n",
       "      <td>1</td>\n",
       "      <td>65</td>\n",
       "      <td>13 000 people receive wildfires evacuation ord...</td>\n",
       "      <td>13 000 people receive wildfires evacuation ord...</td>\n",
       "      <td>peopl receiv wildfir evacu order california</td>\n",
       "    </tr>\n",
       "    <tr>\n",
       "      <th>4</th>\n",
       "      <td>7</td>\n",
       "      <td>NaN</td>\n",
       "      <td>NaN</td>\n",
       "      <td>Just got sent this photo from Ruby #Alaska as ...</td>\n",
       "      <td>1</td>\n",
       "      <td>88</td>\n",
       "      <td>just got sent photo ruby alaska smoke wildfire...</td>\n",
       "      <td>just got sent photo ruby alaska smoke wildfire...</td>\n",
       "      <td>got sent photo rubi alaska smoke wildfir pour ...</td>\n",
       "    </tr>\n",
       "  </tbody>\n",
       "</table>\n",
       "</div>"
      ],
      "text/plain": [
       "   id keyword location                                               text  \\\n",
       "0   1     NaN      NaN  Our Deeds are the Reason of this #earthquake M...   \n",
       "1   4     NaN      NaN             Forest fire near La Ronge Sask. Canada   \n",
       "2   5     NaN      NaN  All residents asked to 'shelter in place' are ...   \n",
       "3   6     NaN      NaN  13,000 people receive #wildfires evacuation or...   \n",
       "4   7     NaN      NaN  Just got sent this photo from Ruby #Alaska as ...   \n",
       "\n",
       "   target  size                                         clean_text  \\\n",
       "0       1    69              deeds reason earthquake allah forgive   \n",
       "1       1    38                   forest near la ronge sask canada   \n",
       "2       1   133  residents asked shelter place notified officer...   \n",
       "3       1    65  13 000 people receive wildfires evacuation ord...   \n",
       "4       1    88  just got sent photo ruby alaska smoke wildfire...   \n",
       "\n",
       "                                          clean_text  \\\n",
       "0              deeds reason earthquake allah forgive   \n",
       "1                   forest near la ronge sask canada   \n",
       "2  residents asked shelter place notified officer...   \n",
       "3  13 000 people receive wildfires evacuation ord...   \n",
       "4  just got sent photo ruby alaska smoke wildfire...   \n",
       "\n",
       "                                         clean_tweet  \n",
       "0          deed reason earthquak may allah forgiv us  \n",
       "1               forest fire near la rong sask canada  \n",
       "2  resid ask shelter place notifi offic evacu she...  \n",
       "3        peopl receiv wildfir evacu order california  \n",
       "4  got sent photo rubi alaska smoke wildfir pour ...  "
      ]
     },
     "execution_count": 96,
     "metadata": {},
     "output_type": "execute_result"
    }
   ],
   "source": [
    "df_train.head(5)"
   ]
  },
  {
   "cell_type": "code",
   "execution_count": 97,
   "metadata": {},
   "outputs": [
    {
     "data": {
      "text/html": [
       "<div>\n",
       "<style scoped>\n",
       "    .dataframe tbody tr th:only-of-type {\n",
       "        vertical-align: middle;\n",
       "    }\n",
       "\n",
       "    .dataframe tbody tr th {\n",
       "        vertical-align: top;\n",
       "    }\n",
       "\n",
       "    .dataframe thead th {\n",
       "        text-align: right;\n",
       "    }\n",
       "</style>\n",
       "<table border=\"1\" class=\"dataframe\">\n",
       "  <thead>\n",
       "    <tr style=\"text-align: right;\">\n",
       "      <th></th>\n",
       "      <th>id</th>\n",
       "      <th>keyword</th>\n",
       "      <th>location</th>\n",
       "      <th>text</th>\n",
       "      <th>clean_text</th>\n",
       "      <th>clean_tweet</th>\n",
       "    </tr>\n",
       "  </thead>\n",
       "  <tbody>\n",
       "    <tr>\n",
       "      <th>0</th>\n",
       "      <td>0</td>\n",
       "      <td>NaN</td>\n",
       "      <td>NaN</td>\n",
       "      <td>Just happened a terrible car crash</td>\n",
       "      <td>just happened terrible car crash</td>\n",
       "      <td>happen terribl car crash</td>\n",
       "    </tr>\n",
       "    <tr>\n",
       "      <th>1</th>\n",
       "      <td>2</td>\n",
       "      <td>NaN</td>\n",
       "      <td>NaN</td>\n",
       "      <td>Heard about #earthquake is different cities, s...</td>\n",
       "      <td>heard earthquake different cities stay safe</td>\n",
       "      <td>heard earthquak differ citi stay safe everyon</td>\n",
       "    </tr>\n",
       "    <tr>\n",
       "      <th>2</th>\n",
       "      <td>3</td>\n",
       "      <td>NaN</td>\n",
       "      <td>NaN</td>\n",
       "      <td>there is a forest fire at spot pond, geese are...</td>\n",
       "      <td>forest spot pond geese fleeing street save</td>\n",
       "      <td>forest fire spot pond gees flee across street ...</td>\n",
       "    </tr>\n",
       "    <tr>\n",
       "      <th>3</th>\n",
       "      <td>9</td>\n",
       "      <td>NaN</td>\n",
       "      <td>NaN</td>\n",
       "      <td>Apocalypse lighting. #Spokane #wildfires</td>\n",
       "      <td>apocalypse lighting spokane wildfires</td>\n",
       "      <td>apocalyps light spokan wildfir</td>\n",
       "    </tr>\n",
       "    <tr>\n",
       "      <th>4</th>\n",
       "      <td>11</td>\n",
       "      <td>NaN</td>\n",
       "      <td>NaN</td>\n",
       "      <td>Typhoon Soudelor kills 28 in China and Taiwan</td>\n",
       "      <td>typhoon soudelor kills 28 china taiwan</td>\n",
       "      <td>typhoon soudelor kill china taiwan</td>\n",
       "    </tr>\n",
       "  </tbody>\n",
       "</table>\n",
       "</div>"
      ],
      "text/plain": [
       "   id keyword location                                               text  \\\n",
       "0   0     NaN      NaN                 Just happened a terrible car crash   \n",
       "1   2     NaN      NaN  Heard about #earthquake is different cities, s...   \n",
       "2   3     NaN      NaN  there is a forest fire at spot pond, geese are...   \n",
       "3   9     NaN      NaN           Apocalypse lighting. #Spokane #wildfires   \n",
       "4  11     NaN      NaN      Typhoon Soudelor kills 28 in China and Taiwan   \n",
       "\n",
       "                                    clean_text  \\\n",
       "0             just happened terrible car crash   \n",
       "1  heard earthquake different cities stay safe   \n",
       "2   forest spot pond geese fleeing street save   \n",
       "3        apocalypse lighting spokane wildfires   \n",
       "4       typhoon soudelor kills 28 china taiwan   \n",
       "\n",
       "                                         clean_tweet  \n",
       "0                           happen terribl car crash  \n",
       "1      heard earthquak differ citi stay safe everyon  \n",
       "2  forest fire spot pond gees flee across street ...  \n",
       "3                     apocalyps light spokan wildfir  \n",
       "4                 typhoon soudelor kill china taiwan  "
      ]
     },
     "execution_count": 97,
     "metadata": {},
     "output_type": "execute_result"
    }
   ],
   "source": [
    "df_test.head(5)"
   ]
  },
  {
   "cell_type": "code",
   "execution_count": 107,
   "metadata": {},
   "outputs": [
    {
     "name": "stdout",
     "output_type": "stream",
     "text": [
      "[[0 0 0 ... 0 0 0]]\n"
     ]
    }
   ],
   "source": [
    "# Vectorize the text using CountVectorizer\n",
    "count_vectorizer = CountVectorizer()\n",
    "train_cv = count_vectorizer.fit_transform(df_train['clean_tweet'])\n",
    "test_cv = count_vectorizer.transform(df_test[\"clean_tweet\"])\n",
    "\n",
    "## Keeping only non-zero elements to preserve space \n",
    "print(train_cv[0].todense())"
   ]
  },
  {
   "cell_type": "code",
   "execution_count": 108,
   "metadata": {},
   "outputs": [],
   "source": [
    "#Split the CountVector vectorized data into train and test datasets for model training and testing\n",
    "X_train_cv, X_test_cv, y_train_cv, y_test_cv =train_test_split(train_cv,df_train.target,test_size=0.2,random_state=2020)"
   ]
  },
  {
   "cell_type": "code",
   "execution_count": 109,
   "metadata": {},
   "outputs": [],
   "source": [
    "#Define a function to fit and predict on training and test data sets\n",
    "def fit_and_predict(model,X_train,y_train,X_test,y_test):\n",
    "    \n",
    "    # Fitting a simple Logistic Regression on Counts\n",
    "    clf = model\n",
    "    clf.fit(X_train, y_train)\n",
    "    predictions=clf.predict(X_test)\n",
    "    confusion_matrix(y_test,predictions)\n",
    "    print(classification_report(y_test,predictions))\n",
    "    print('-'*50)\n",
    "    print(\"{}\" .format(model))\n",
    "    print('-'*50)\n",
    "    print('Accuracy of classifier on training set:{}%'.format(round(clf.score(X_train, y_train)*100)))\n",
    "    print('-'*50)\n",
    "    print('Accuracy of classifier on test set:{}%' .format(round(accuracy_score(y_test,predictions)*100)))\n",
    "    print('-'*50)"
   ]
  },
  {
   "cell_type": "code",
   "execution_count": 110,
   "metadata": {},
   "outputs": [],
   "source": [
    "# Create a list of the regression models to be used\n",
    "models=[LogisticRegression(C=1.0),SVC(),MultinomialNB(),DecisionTreeClassifier(),\n",
    "        KNeighborsClassifier(n_neighbors=5),RandomForestClassifier()]"
   ]
  },
  {
   "cell_type": "code",
   "execution_count": 111,
   "metadata": {},
   "outputs": [
    {
     "name": "stdout",
     "output_type": "stream",
     "text": [
      "              precision    recall  f1-score   support\n",
      "\n",
      "           0       0.79      0.89      0.84       849\n",
      "           1       0.83      0.71      0.77       674\n",
      "\n",
      "    accuracy                           0.81      1523\n",
      "   macro avg       0.81      0.80      0.80      1523\n",
      "weighted avg       0.81      0.81      0.81      1523\n",
      "\n",
      "--------------------------------------------------\n",
      "LogisticRegression(C=1.0, class_weight=None, dual=False, fit_intercept=True,\n",
      "                   intercept_scaling=1, l1_ratio=None, max_iter=100,\n",
      "                   multi_class='auto', n_jobs=None, penalty='l2',\n",
      "                   random_state=None, solver='lbfgs', tol=0.0001, verbose=0,\n",
      "                   warm_start=False)\n",
      "--------------------------------------------------\n",
      "Accuracy of classifier on training set:97.0%\n",
      "--------------------------------------------------\n",
      "Accuracy of classifier on test set:81.0%\n",
      "--------------------------------------------------\n",
      "              precision    recall  f1-score   support\n",
      "\n",
      "           0       0.78      0.93      0.85       849\n",
      "           1       0.88      0.67      0.76       674\n",
      "\n",
      "    accuracy                           0.81      1523\n",
      "   macro avg       0.83      0.80      0.80      1523\n",
      "weighted avg       0.82      0.81      0.81      1523\n",
      "\n",
      "--------------------------------------------------\n",
      "SVC(C=1.0, break_ties=False, cache_size=200, class_weight=None, coef0=0.0,\n",
      "    decision_function_shape='ovr', degree=3, gamma='scale', kernel='rbf',\n",
      "    max_iter=-1, probability=False, random_state=None, shrinking=True,\n",
      "    tol=0.001, verbose=False)\n",
      "--------------------------------------------------\n",
      "Accuracy of classifier on training set:95.0%\n",
      "--------------------------------------------------\n",
      "Accuracy of classifier on test set:81.0%\n",
      "--------------------------------------------------\n",
      "              precision    recall  f1-score   support\n",
      "\n",
      "           0       0.81      0.85      0.83       849\n",
      "           1       0.79      0.75      0.77       674\n",
      "\n",
      "    accuracy                           0.80      1523\n",
      "   macro avg       0.80      0.80      0.80      1523\n",
      "weighted avg       0.80      0.80      0.80      1523\n",
      "\n",
      "--------------------------------------------------\n",
      "MultinomialNB(alpha=1.0, class_prior=None, fit_prior=True)\n",
      "--------------------------------------------------\n",
      "Accuracy of classifier on training set:92.0%\n",
      "--------------------------------------------------\n",
      "Accuracy of classifier on test set:80.0%\n",
      "--------------------------------------------------\n",
      "              precision    recall  f1-score   support\n",
      "\n",
      "           0       0.78      0.83      0.80       849\n",
      "           1       0.77      0.70      0.73       674\n",
      "\n",
      "    accuracy                           0.77      1523\n",
      "   macro avg       0.77      0.77      0.77      1523\n",
      "weighted avg       0.77      0.77      0.77      1523\n",
      "\n",
      "--------------------------------------------------\n",
      "DecisionTreeClassifier(ccp_alpha=0.0, class_weight=None, criterion='gini',\n",
      "                       max_depth=None, max_features=None, max_leaf_nodes=None,\n",
      "                       min_impurity_decrease=0.0, min_impurity_split=None,\n",
      "                       min_samples_leaf=1, min_samples_split=2,\n",
      "                       min_weight_fraction_leaf=0.0, presort='deprecated',\n",
      "                       random_state=None, splitter='best')\n",
      "--------------------------------------------------\n",
      "Accuracy of classifier on training set:100.0%\n",
      "--------------------------------------------------\n",
      "Accuracy of classifier on test set:77.0%\n",
      "--------------------------------------------------\n",
      "              precision    recall  f1-score   support\n",
      "\n",
      "           0       0.64      0.98      0.78       849\n",
      "           1       0.94      0.31      0.46       674\n",
      "\n",
      "    accuracy                           0.68      1523\n",
      "   macro avg       0.79      0.65      0.62      1523\n",
      "weighted avg       0.77      0.68      0.64      1523\n",
      "\n",
      "--------------------------------------------------\n",
      "KNeighborsClassifier(algorithm='auto', leaf_size=30, metric='minkowski',\n",
      "                     metric_params=None, n_jobs=None, n_neighbors=5, p=2,\n",
      "                     weights='uniform')\n",
      "--------------------------------------------------\n",
      "Accuracy of classifier on training set:74.0%\n",
      "--------------------------------------------------\n",
      "Accuracy of classifier on test set:68.0%\n",
      "--------------------------------------------------\n",
      "              precision    recall  f1-score   support\n",
      "\n",
      "           0       0.76      0.93      0.84       849\n",
      "           1       0.88      0.63      0.74       674\n",
      "\n",
      "    accuracy                           0.80      1523\n",
      "   macro avg       0.82      0.78      0.79      1523\n",
      "weighted avg       0.82      0.80      0.79      1523\n",
      "\n",
      "--------------------------------------------------\n",
      "RandomForestClassifier(bootstrap=True, ccp_alpha=0.0, class_weight=None,\n",
      "                       criterion='gini', max_depth=None, max_features='auto',\n",
      "                       max_leaf_nodes=None, max_samples=None,\n",
      "                       min_impurity_decrease=0.0, min_impurity_split=None,\n",
      "                       min_samples_leaf=1, min_samples_split=2,\n",
      "                       min_weight_fraction_leaf=0.0, n_estimators=100,\n",
      "                       n_jobs=None, oob_score=False, random_state=None,\n",
      "                       verbose=0, warm_start=False)\n",
      "--------------------------------------------------\n",
      "Accuracy of classifier on training set:100.0%\n",
      "--------------------------------------------------\n",
      "Accuracy of classifier on test set:80.0%\n",
      "--------------------------------------------------\n"
     ]
    }
   ],
   "source": [
    "# Loop through the list of models and use 'fit_and_predict()' function to trian and make predictions\n",
    "for model in models:\n",
    "    fit_and_predict(model,X_train_cv, y_train_cv,X_test_cv,y_test_cv)"
   ]
  },
  {
   "cell_type": "code",
   "execution_count": 124,
   "metadata": {},
   "outputs": [
    {
     "name": "stdout",
     "output_type": "stream",
     "text": [
      "              precision    recall  f1-score   support\n",
      "\n",
      "           0       0.79      0.89      0.84       849\n",
      "           1       0.83      0.71      0.77       674\n",
      "\n",
      "    accuracy                           0.81      1523\n",
      "   macro avg       0.81      0.80      0.80      1523\n",
      "weighted avg       0.81      0.81      0.81      1523\n",
      "\n",
      "Accuracy of classifier on training set:97.0%\n",
      "Accuracy of classifier on test set:81.0%\n"
     ]
    }
   ],
   "source": [
    "# Fitting 'LogisticRegression()' with CountVectorizer() fit dataset\n",
    "clf_logreg = LogisticRegression(C=1.0)\n",
    "clf_logreg.fit(X_train_cv, y_train_cv)\n",
    "pred=clf_logreg.predict(X_test_cv)\n",
    "confusion_matrix(y_test_cv,pred)\n",
    "print(classification_report(y_test_cv,pred))\n",
    "print('Accuracy of classifier on training set:{}%'.format(round(clf_logreg.score(X_train_cv, y_train_cv)*100)))\n",
    "print('Accuracy of classifier on test set:{}%' .format(round(accuracy_score(y_test_cv,pred)*100)))"
   ]
  },
  {
   "cell_type": "code",
   "execution_count": 114,
   "metadata": {},
   "outputs": [
    {
     "name": "stdout",
     "output_type": "stream",
     "text": [
      "Best: 0.798139 using {'C': 1.0, 'penalty': 'l2', 'solver': 'liblinear'}\n"
     ]
    }
   ],
   "source": [
    "solvers = ['newton-cg', 'lbfgs', 'liblinear']\n",
    "penalty = ['l2']\n",
    "c_values = [100, 10, 1.0, 0.1, 0.01]\n",
    "logreg= LogisticRegression()\n",
    "\n",
    "# Define and fit grid search\n",
    "grid = dict(solver=solvers,penalty=penalty,C=c_values)\n",
    "cv = RepeatedStratifiedKFold(n_splits=10, n_repeats=3, random_state=1)\n",
    "grid_search = GridSearchCV(estimator=logreg, param_grid=grid, n_jobs=-1, cv=cv, scoring='accuracy',error_score=0)\n",
    "grid_result = grid_search.fit(X_train_cv, y_train_cv)\n",
    "\n",
    "# Summarize and print results\n",
    "print(\"Best: %f using %s\" % (grid_result.best_score_, grid_result.best_params_))"
   ]
  },
  {
   "cell_type": "code",
   "execution_count": 118,
   "metadata": {},
   "outputs": [],
   "source": [
    "# Lets apply pre-processing function to clean and pre-process text data before vectorizing\n",
    "test_df_final=df_test.copy()\n",
    "test_df_final['text'] = test_df_final['text'].apply(lambda x : cleaned_tweet(x))"
   ]
  },
  {
   "cell_type": "code",
   "execution_count": 121,
   "metadata": {},
   "outputs": [],
   "source": [
    "# Lets fit the test data with Countvectorizer() method to vectroize the data\n",
    "test_vector = count_vectorizer.transform(test_df_final[\"text\"])"
   ]
  },
  {
   "cell_type": "code",
   "execution_count": 131,
   "metadata": {},
   "outputs": [],
   "source": [
    "# Define a function to generate predictions and store in a.csv file for submission on Kaggle\n",
    "def submission(sub_file,model,test_vector):\n",
    "    \n",
    "    '''Input- sub_file=Location of the file submission file\n",
    "              model=final fit model to be used for predictions\n",
    "              test_vector=pre-processed and vectorized test dataset\n",
    "       Output- submission file in .csv format with predictions       \n",
    "    \n",
    "    '''\n",
    "    sub_df = pd.read_csv(sub_file)\n",
    "    sub_df[\"target\"] = model.predict(test_vector)\n",
    "    sub_df.to_csv(\"submission.csv\", index=False)"
   ]
  },
  {
   "cell_type": "code",
   "execution_count": 132,
   "metadata": {},
   "outputs": [],
   "source": [
    "# Use Submission() function to generate submission file for posting on Kaggle\n",
    "sub_file = \"D:\\Datasets\\Machine Learning\\Text Mining\\Python\\Twitter disaster analysis\\sample_submission.csv\"\n",
    "test_vector=test_vector\n",
    "submission(sub_file,clf_logreg,test_vector)"
   ]
  },
  {
   "cell_type": "code",
   "execution_count": null,
   "metadata": {},
   "outputs": [],
   "source": []
  }
 ],
 "metadata": {
  "kernelspec": {
   "display_name": "Python 3",
   "language": "python",
   "name": "python3"
  },
  "language_info": {
   "codemirror_mode": {
    "name": "ipython",
    "version": 3
   },
   "file_extension": ".py",
   "mimetype": "text/x-python",
   "name": "python",
   "nbconvert_exporter": "python",
   "pygments_lexer": "ipython3",
   "version": "3.7.6"
  }
 },
 "nbformat": 4,
 "nbformat_minor": 4
}
